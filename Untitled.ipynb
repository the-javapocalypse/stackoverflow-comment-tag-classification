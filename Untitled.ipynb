{
 "cells": [
  {
   "cell_type": "code",
   "execution_count": 1,
   "metadata": {},
   "outputs": [],
   "source": [
    "import pandas as pd"
   ]
  },
  {
   "cell_type": "code",
   "execution_count": 2,
   "metadata": {},
   "outputs": [],
   "source": [
    "data = pd.read_csv(\"data.csv\")"
   ]
  },
  {
   "cell_type": "code",
   "execution_count": 12,
   "metadata": {},
   "outputs": [],
   "source": [
    "# data['post'][0]\n",
    "# data['tags'][0]"
   ]
  },
  {
   "cell_type": "code",
   "execution_count": 13,
   "metadata": {},
   "outputs": [],
   "source": [
    "train_size = int(len(data) * .8)\n",
    "train_posts = data['post'][:train_size]\n",
    "train_tags = data['tags'][:train_size]\n",
    "test_posts = data['post'][train_size:]\n",
    "test_tags = data['tags'][train_size:]"
   ]
  },
  {
   "cell_type": "code",
   "execution_count": 14,
   "metadata": {},
   "outputs": [
    {
     "name": "stderr",
     "output_type": "stream",
     "text": [
      "C:\\Users\\Javapocalypse\\Anaconda3\\lib\\site-packages\\h5py\\__init__.py:36: FutureWarning: Conversion of the second argument of issubdtype from `float` to `np.floating` is deprecated. In future, it will be treated as `np.float64 == np.dtype(float).type`.\n",
      "  from ._conv import register_converters as _register_converters\n",
      "Using TensorFlow backend.\n"
     ]
    }
   ],
   "source": [
    "from keras.preprocessing.text import Tokenizer"
   ]
  },
  {
   "cell_type": "code",
   "execution_count": 15,
   "metadata": {},
   "outputs": [],
   "source": [
    "vocab_size = 1000\n",
    "tokenize = Tokenizer(num_words=vocab_size)\n",
    "tokenize.fit_on_texts(train_posts)"
   ]
  },
  {
   "cell_type": "code",
   "execution_count": 43,
   "metadata": {},
   "outputs": [],
   "source": [
    "x_train = tokenize.texts_to_matrix(train_posts)\n",
    "x_test = tokenize.texts_to_matrix(test_posts)"
   ]
  },
  {
   "cell_type": "code",
   "execution_count": 21,
   "metadata": {},
   "outputs": [],
   "source": [
    "num_classes = train_tags.nunique()"
   ]
  },
  {
   "cell_type": "code",
   "execution_count": 23,
   "metadata": {},
   "outputs": [],
   "source": [
    "import keras"
   ]
  },
  {
   "cell_type": "code",
   "execution_count": 26,
   "metadata": {},
   "outputs": [],
   "source": [
    "# keras.utils.to_categorical(train_tags, num_classes)\n",
    "y_train = pd.get_dummies(train_tags)\n",
    "y_test = pd.get_dummies(test_tags)"
   ]
  },
  {
   "cell_type": "code",
   "execution_count": 35,
   "metadata": {},
   "outputs": [],
   "source": [
    "from keras.models import Sequential\n",
    "from keras.layers import Activation, Dense"
   ]
  },
  {
   "cell_type": "code",
   "execution_count": null,
   "metadata": {},
   "outputs": [],
   "source": []
  },
  {
   "cell_type": "code",
   "execution_count": 37,
   "metadata": {},
   "outputs": [],
   "source": [
    "model = Sequential()\n",
    "model.add(Dense(512, input_shape=(vocab_size,)))\n",
    "model.add(Activation('relu'))\n",
    "model.add(Dense(num_classes))\n",
    "model.add(Activation('softmax'))"
   ]
  },
  {
   "cell_type": "code",
   "execution_count": 38,
   "metadata": {},
   "outputs": [],
   "source": [
    "model.compile(loss='categorical_crossentropy', \n",
    "              optimizer='adam', \n",
    "              metrics=['accuracy'])"
   ]
  },
  {
   "cell_type": "code",
   "execution_count": 41,
   "metadata": {},
   "outputs": [
    {
     "name": "stdout",
     "output_type": "stream",
     "text": [
      "Train on 1440 samples, validate on 160 samples\n",
      "Epoch 1/10\n",
      "1440/1440 [==============================] - 0s 209us/step - loss: 1.1483 - acc: 0.8785 - val_loss: 1.3876 - val_acc: 0.6812\n",
      "Epoch 2/10\n",
      "1440/1440 [==============================] - 0s 218us/step - loss: 0.7146 - acc: 0.9264 - val_loss: 1.1760 - val_acc: 0.7000\n",
      "Epoch 3/10\n",
      "1440/1440 [==============================] - 0s 218us/step - loss: 0.4627 - acc: 0.9535 - val_loss: 1.0107 - val_acc: 0.7250\n",
      "Epoch 4/10\n",
      "1440/1440 [==============================] - 0s 222us/step - loss: 0.3120 - acc: 0.9750 - val_loss: 1.0106 - val_acc: 0.7062\n",
      "Epoch 5/10\n",
      "1440/1440 [==============================] - 0s 213us/step - loss: 0.2171 - acc: 0.9882 - val_loss: 0.9316 - val_acc: 0.7437\n",
      "Epoch 6/10\n",
      "1440/1440 [==============================] - 0s 204us/step - loss: 0.1600 - acc: 0.9944 - val_loss: 0.9339 - val_acc: 0.7312 0s - loss: 0.1619 - acc: 0.99\n",
      "Epoch 7/10\n",
      "1440/1440 [==============================] - 0s 219us/step - loss: 0.1191 - acc: 0.9965 - val_loss: 0.8946 - val_acc: 0.7375\n",
      "Epoch 8/10\n",
      "1440/1440 [==============================] - 0s 207us/step - loss: 0.0921 - acc: 0.9972 - val_loss: 0.8905 - val_acc: 0.7312\n",
      "Epoch 9/10\n",
      "1440/1440 [==============================] - 0s 219us/step - loss: 0.0729 - acc: 0.9993 - val_loss: 0.8975 - val_acc: 0.7375\n",
      "Epoch 10/10\n",
      "1440/1440 [==============================] - 0s 216us/step - loss: 0.0585 - acc: 0.9993 - val_loss: 0.8876 - val_acc: 0.7375\n"
     ]
    }
   ],
   "source": [
    "batch_size = 50\n",
    "epochs = 10\n",
    "history = model.fit(x_train, y_train, \n",
    "                    batch_size=batch_size, \n",
    "                    epochs=epochs, \n",
    "                    verbose=1, \n",
    "                    validation_split=0.1)"
   ]
  },
  {
   "cell_type": "code",
   "execution_count": 44,
   "metadata": {},
   "outputs": [
    {
     "name": "stdout",
     "output_type": "stream",
     "text": [
      "400/400 [==============================] - 0s 53us/step\n",
      "Test score: 0.9171308279037476\n",
      "Test accuracy: 0.7325000017881393\n"
     ]
    }
   ],
   "source": [
    "score = model.evaluate(x_test, y_test,batch_size=batch_size, verbose=1)\n",
    "print('Test score:', score[0])\n",
    "print('Test accuracy:', score[1])"
   ]
  },
  {
   "cell_type": "code",
   "execution_count": 52,
   "metadata": {},
   "outputs": [
    {
     "data": {
      "text/plain": [
       "['.net',\n",
       " 'android',\n",
       " 'angularjs',\n",
       " 'asp.net',\n",
       " 'c',\n",
       " 'c#',\n",
       " 'c++',\n",
       " 'css',\n",
       " 'html',\n",
       " 'ios',\n",
       " 'iphone',\n",
       " 'java',\n",
       " 'javascript',\n",
       " 'jquery',\n",
       " 'mysql',\n",
       " 'objective-c',\n",
       " 'php',\n",
       " 'python',\n",
       " 'ruby-on-rails',\n",
       " 'sql']"
      ]
     },
     "execution_count": 52,
     "metadata": {},
     "output_type": "execute_result"
    }
   ],
   "source": [
    "df_dummified = pd.get_dummies(train_tags)\n",
    "columns = df_dummified.columns\n",
    "columns.tolist()"
   ]
  },
  {
   "cell_type": "code",
   "execution_count": 59,
   "metadata": {},
   "outputs": [
    {
     "name": "stdout",
     "output_type": "stream",
     "text": [
      "strip out characters javascript  i m getting a name back but it comes back in this format:    <code> ...\n",
      "Actual label:javascript\n",
      "Predicted label: javascript\n",
      "\n",
      "-------------------------------------------\n",
      "\n",
      "add background color to title which already has image background  here s the <a href= https://jsfidd ...\n",
      "Actual label:css\n",
      "Predicted label: css\n",
      "\n",
      "-------------------------------------------\n",
      "\n",
      "is it possible to code ios app to make music app go to next song   so i m not sure if it s possible  ...\n",
      "Actual label:ios\n",
      "Predicted label: ios\n",
      "\n",
      "-------------------------------------------\n",
      "\n",
      "how to create simple addition in objective-c   i have a simple iphone project open in xcode. in the  ...\n",
      "Actual label:objective-c\n",
      "Predicted label: objective-c\n",
      "\n",
      "-------------------------------------------\n",
      "\n",
      "instapaper-like algorithm  does anyone of an algorithm that extracts contents from a webpage  like < ...\n",
      "Actual label:html\n",
      "Predicted label: html\n",
      "\n",
      "-------------------------------------------\n",
      "\n",
      "how does basepage.generatepassword in .net works   i am using basepage.generatepassword(6  10) to ge ...\n",
      "Actual label:.net\n",
      "Predicted label: .net\n",
      "\n",
      "-------------------------------------------\n",
      "\n",
      "inside div element find out mouse position   i done one concept of  program is find out mouse coordi ...\n",
      "Actual label:javascript\n",
      "Predicted label: html\n",
      "\n",
      "-------------------------------------------\n",
      "\n",
      "in javascript collection  use value from earlier key/value in a later value  i know this sounds sill ...\n",
      "Actual label:javascript\n",
      "Predicted label: javascript\n",
      "\n",
      "-------------------------------------------\n",
      "\n",
      "define with curly braces  i ve been trying to look up information on this to no avail. can someone e ...\n",
      "Actual label:c\n",
      "Predicted label: c++\n",
      "\n",
      "-------------------------------------------\n",
      "\n",
      "unlocking tables if thread is lost  <a href= http://dev.mysql.com/doc/refman/5.0/en/internal-locking ...\n",
      "Actual label:mysql\n",
      "Predicted label: mysql\n",
      "\n",
      "-------------------------------------------\n",
      "\n"
     ]
    }
   ],
   "source": [
    "import numpy as np\n",
    "\n",
    "for i in range(10):    \n",
    "    prediction = model.predict(np.array([x_test[i]]))\n",
    "    predicted_label = columns[np.argmax(prediction[0])]\n",
    "    print(test_posts.iloc[i][:100], \"...\")\n",
    "    print('Actual label: ' + test_tags.iloc[i])\n",
    "    print(\"Predicted label: \" + predicted_label)\n",
    "    print('\\n-------------------------------------------\\n')"
   ]
  },
  {
   "cell_type": "code",
   "execution_count": null,
   "metadata": {},
   "outputs": [],
   "source": []
  }
 ],
 "metadata": {
  "kernelspec": {
   "display_name": "Python 3",
   "language": "python",
   "name": "python3"
  },
  "language_info": {
   "codemirror_mode": {
    "name": "ipython",
    "version": 3
   },
   "file_extension": ".py",
   "mimetype": "text/x-python",
   "name": "python",
   "nbconvert_exporter": "python",
   "pygments_lexer": "ipython3",
   "version": "3.6.5"
  }
 },
 "nbformat": 4,
 "nbformat_minor": 2
}
