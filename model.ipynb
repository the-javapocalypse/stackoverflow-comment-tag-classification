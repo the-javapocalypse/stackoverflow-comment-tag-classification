{
 "cells": [
  {
   "cell_type": "code",
   "execution_count": 1,
   "metadata": {
    "collapsed": true
   },
   "outputs": [],
   "source": [
    "import pandas as pd"
   ]
  },
  {
   "cell_type": "code",
   "execution_count": 2,
   "metadata": {
    "collapsed": true
   },
   "outputs": [],
   "source": [
    "data = pd.read_csv(\"data-5000x10.csv\")"
   ]
  },
  {
   "cell_type": "code",
   "execution_count": 3,
   "metadata": {
    "collapsed": true
   },
   "outputs": [],
   "source": [
    "# data['post'][0]\n",
    "# data['tags'][0]\n",
    "dataColumn = 'post'\n",
    "labelColumn = 'tags'"
   ]
  },
  {
   "cell_type": "code",
   "execution_count": 4,
   "metadata": {
    "collapsed": true
   },
   "outputs": [],
   "source": [
    "train_size = int(len(data) * .8)\n",
    "train_posts = data[dataColumn][:train_size]\n",
    "train_tags = data[labelColumn][:train_size]\n",
    "test_posts = data[dataColumn][train_size:]\n",
    "test_tags = data[labelColumn][train_size:]"
   ]
  },
  {
   "cell_type": "code",
   "execution_count": 5,
   "metadata": {},
   "outputs": [
    {
     "name": "stderr",
     "output_type": "stream",
     "text": [
      "C:\\Users\\Javapocalypse\\Anaconda3\\lib\\site-packages\\h5py\\__init__.py:34: FutureWarning: Conversion of the second argument of issubdtype from `float` to `np.floating` is deprecated. In future, it will be treated as `np.float64 == np.dtype(float).type`.\n",
      "  from ._conv import register_converters as _register_converters\n",
      "Using TensorFlow backend.\n"
     ]
    }
   ],
   "source": [
    "from keras.preprocessing.text import Tokenizer"
   ]
  },
  {
   "cell_type": "code",
   "execution_count": 6,
   "metadata": {
    "collapsed": true
   },
   "outputs": [],
   "source": [
    "vocab_size = 1000\n",
    "tokenize = Tokenizer(num_words=vocab_size)\n",
    "tokenize.fit_on_texts(train_posts)"
   ]
  },
  {
   "cell_type": "code",
   "execution_count": 7,
   "metadata": {
    "collapsed": true
   },
   "outputs": [],
   "source": [
    "x_train = tokenize.texts_to_matrix(train_posts)\n",
    "x_test = tokenize.texts_to_matrix(test_posts)"
   ]
  },
  {
   "cell_type": "code",
   "execution_count": null,
   "metadata": {},
   "outputs": [],
   "source": []
  },
  {
   "cell_type": "code",
   "execution_count": 8,
   "metadata": {
    "collapsed": true
   },
   "outputs": [],
   "source": [
    "num_classes = train_tags.nunique()"
   ]
  },
  {
   "cell_type": "code",
   "execution_count": 9,
   "metadata": {
    "collapsed": true
   },
   "outputs": [],
   "source": [
    "import keras"
   ]
  },
  {
   "cell_type": "code",
   "execution_count": 10,
   "metadata": {
    "collapsed": true
   },
   "outputs": [],
   "source": [
    "# keras.utils.to_categorical(train_tags, num_classes)\n",
    "y_train = pd.get_dummies(train_tags)\n",
    "y_test = pd.get_dummies(test_tags)"
   ]
  },
  {
   "cell_type": "code",
   "execution_count": 11,
   "metadata": {
    "collapsed": true
   },
   "outputs": [],
   "source": [
    "from keras.models import Sequential\n",
    "from keras.layers import Activation, Dense"
   ]
  },
  {
   "cell_type": "code",
   "execution_count": null,
   "metadata": {
    "collapsed": true
   },
   "outputs": [],
   "source": []
  },
  {
   "cell_type": "code",
   "execution_count": 57,
   "metadata": {
    "collapsed": true
   },
   "outputs": [],
   "source": [
    "model = Sequential()\n",
    "model.add(Dense(512, input_shape=(vocab_size,)))\n",
    "model.add(Activation('sigmoid'))\n",
    "model.add(Dense(num_classes))\n",
    "model.add(Activation('softmax'))"
   ]
  },
  {
   "cell_type": "code",
   "execution_count": 58,
   "metadata": {
    "collapsed": true
   },
   "outputs": [],
   "source": [
    "model.compile(loss='categorical_crossentropy', \n",
    "              optimizer='adam', \n",
    "              metrics=['accuracy'])"
   ]
  },
  {
   "cell_type": "code",
   "execution_count": 79,
   "metadata": {},
   "outputs": [
    {
     "name": "stdout",
     "output_type": "stream",
     "text": [
      "Train on 3200 samples, validate on 800 samples\n",
      "Epoch 1/12\n",
      "3200/3200 [==============================] - 0s 53us/step - loss: 3.9074e-04 - acc: 1.0000 - val_loss: 0.3197 - val_acc: 0.9350\n",
      "Epoch 2/12\n",
      "3200/3200 [==============================] - 0s 49us/step - loss: 3.7402e-04 - acc: 1.0000 - val_loss: 0.3207 - val_acc: 0.9350\n",
      "Epoch 3/12\n",
      "3200/3200 [==============================] - 0s 52us/step - loss: 3.5825e-04 - acc: 1.0000 - val_loss: 0.3206 - val_acc: 0.9350\n",
      "Epoch 4/12\n",
      "3200/3200 [==============================] - 0s 51us/step - loss: 3.4501e-04 - acc: 1.0000 - val_loss: 0.3212 - val_acc: 0.9350\n",
      "Epoch 5/12\n",
      "3200/3200 [==============================] - 0s 49us/step - loss: 3.3277e-04 - acc: 1.0000 - val_loss: 0.3215 - val_acc: 0.9350\n",
      "Epoch 6/12\n",
      "3200/3200 [==============================] - 0s 47us/step - loss: 3.2124e-04 - acc: 1.0000 - val_loss: 0.3215 - val_acc: 0.9350\n",
      "Epoch 7/12\n",
      "3200/3200 [==============================] - 0s 57us/step - loss: 3.0936e-04 - acc: 1.0000 - val_loss: 0.3221 - val_acc: 0.9350\n",
      "Epoch 8/12\n",
      "3200/3200 [==============================] - 0s 54us/step - loss: 3.0011e-04 - acc: 1.0000 - val_loss: 0.3223 - val_acc: 0.9350\n",
      "Epoch 9/12\n",
      "3200/3200 [==============================] - 0s 43us/step - loss: 2.9027e-04 - acc: 1.0000 - val_loss: 0.3228 - val_acc: 0.9338\n",
      "Epoch 10/12\n",
      "3200/3200 [==============================] - 0s 46us/step - loss: 2.8253e-04 - acc: 1.0000 - val_loss: 0.3227 - val_acc: 0.9338\n",
      "Epoch 11/12\n",
      "3200/3200 [==============================] - 0s 48us/step - loss: 2.7357e-04 - acc: 1.0000 - val_loss: 0.3234 - val_acc: 0.9338\n",
      "Epoch 12/12\n",
      "3200/3200 [==============================] - 0s 51us/step - loss: 2.6589e-04 - acc: 1.0000 - val_loss: 0.3238 - val_acc: 0.9350\n"
     ]
    }
   ],
   "source": [
    "batch_size = 100\n",
    "epochs = 12\n",
    "history = model.fit(x_train, y_train, \n",
    "                    batch_size=batch_size, \n",
    "                    epochs=epochs, \n",
    "                    verbose=1, \n",
    "                    validation_split=0.2)"
   ]
  },
  {
   "cell_type": "code",
   "execution_count": 78,
   "metadata": {},
   "outputs": [
    {
     "name": "stdout",
     "output_type": "stream",
     "text": [
      "1000/1000 [==============================] - 0s 26us/step\n",
      "Test score: 0.6185472249984741\n",
      "Test accuracy: 0.85799999833107\n"
     ]
    }
   ],
   "source": [
    "score = model.evaluate(x_test, y_test,batch_size=batch_size, verbose=1)\n",
    "print('Test score:', score[0])\n",
    "print('Test accuracy:', score[1])"
   ]
  },
  {
   "cell_type": "code",
   "execution_count": 16,
   "metadata": {},
   "outputs": [
    {
     "data": {
      "text/plain": [
       "['android',\n",
       " 'angularjs',\n",
       " 'html',\n",
       " 'ios',\n",
       " 'java',\n",
       " 'javascript',\n",
       " 'jquery',\n",
       " 'php',\n",
       " 'python',\n",
       " 'react-native']"
      ]
     },
     "execution_count": 16,
     "metadata": {},
     "output_type": "execute_result"
    }
   ],
   "source": [
    "df_dummified = pd.get_dummies(train_tags)\n",
    "columns = df_dummified.columns\n",
    "columns.tolist()"
   ]
  },
  {
   "cell_type": "code",
   "execution_count": 80,
   "metadata": {},
   "outputs": [
    {
     "name": "stdout",
     "output_type": "stream",
     "text": [
      "array literal methods invocation and object literal methods invocation difference  in javascript  i  ...\n",
      "Actual label: javascript\n",
      "Predicted label: javascript\n",
      "\n",
      "-------------------------------------------\n",
      "\n",
      "timelimit for valid java input without system.exit  i have a question how to implement a variation o ...\n",
      "Actual label: java\n",
      "Predicted label: java\n",
      "\n",
      "-------------------------------------------\n",
      "\n",
      "what s the difference between calling through and object vs class  what s the difference between cal ...\n",
      "Actual label: java\n",
      "Predicted label: java\n",
      "\n",
      "-------------------------------------------\n",
      "\n",
      "jquery: hide or show table row based on radio button checked  couldn t adopt any examples found here ...\n",
      "Actual label: jquery\n",
      "Predicted label: jquery\n",
      "\n",
      "-------------------------------------------\n",
      "\n",
      "checking length of dictionary object  i m trying to check the length here.  tried count.  is there s ...\n",
      "Actual label: javascript\n",
      "Predicted label: javascript\n",
      "\n",
      "-------------------------------------------\n",
      "\n",
      "link to ios 10 lock screen widget documentation   new in ios 10 users can interact with ios push not ...\n",
      "Actual label: ios\n",
      "Predicted label: ios\n",
      "\n",
      "-------------------------------------------\n",
      "\n",
      "xml string to a better format presented to the customer  i have the following function: that allows  ...\n",
      "Actual label: java\n",
      "Predicted label: java\n",
      "\n",
      "-------------------------------------------\n",
      "\n",
      "line break after each row retrieval  i need to add a line break after each row retrieved; i hav trie ...\n",
      "Actual label: php\n",
      "Predicted label: php\n",
      "\n",
      "-------------------------------------------\n",
      "\n",
      "way to detect php interactive mode  i m looking for a way to detect whether php script is being exec ...\n",
      "Actual label: php\n",
      "Predicted label: php\n",
      "\n",
      "-------------------------------------------\n",
      "\n",
      "nav bar not working on specifically home page | enjin  so i have a website that uses enjin as a base ...\n",
      "Actual label: html\n",
      "Predicted label: html\n",
      "\n",
      "-------------------------------------------\n",
      "\n"
     ]
    }
   ],
   "source": [
    "import numpy as np\n",
    "\n",
    "for i in range(10):    \n",
    "    prediction = model.predict(np.array([x_test[i]]))\n",
    "    predicted_label = columns[np.argmax(prediction[0])]\n",
    "    print(test_posts.iloc[i][:100], \"...\")\n",
    "    print('Actual label: ' + test_tags.iloc[i])\n",
    "    print(\"Predicted label: \" + predicted_label)\n",
    "    print('\\n-------------------------------------------\\n')"
   ]
  },
  {
   "cell_type": "code",
   "execution_count": null,
   "metadata": {},
   "outputs": [],
   "source": []
  },
  {
   "cell_type": "code",
   "execution_count": null,
   "metadata": {
    "collapsed": true
   },
   "outputs": [],
   "source": []
  },
  {
   "cell_type": "code",
   "execution_count": null,
   "metadata": {
    "collapsed": true
   },
   "outputs": [],
   "source": []
  }
 ],
 "metadata": {
  "kernelspec": {
   "display_name": "Python 3",
   "language": "python",
   "name": "python3"
  },
  "language_info": {
   "codemirror_mode": {
    "name": "ipython",
    "version": 3
   },
   "file_extension": ".py",
   "mimetype": "text/x-python",
   "name": "python",
   "nbconvert_exporter": "python",
   "pygments_lexer": "ipython3",
   "version": "3.6.1"
  }
 },
 "nbformat": 4,
 "nbformat_minor": 2
}
